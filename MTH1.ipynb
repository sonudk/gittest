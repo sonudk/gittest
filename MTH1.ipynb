{
  "nbformat": 4,
  "nbformat_minor": 0,
  "metadata": {
    "colab": {
      "name": "MTH1.ipynb",
      "version": "0.3.2",
      "provenance": [],
      "include_colab_link": true
    },
    "kernelspec": {
      "name": "python3",
      "display_name": "Python 3"
    },
    "accelerator": "GPU"
  },
  "cells": [
    {
      "cell_type": "markdown",
      "metadata": {
        "id": "view-in-github",
        "colab_type": "text"
      },
      "source": [
        "<a href=\"https://colab.research.google.com/github/sonudk/gittest/blob/master/MTH1.ipynb\" target=\"_parent\"><img src=\"https://colab.research.google.com/assets/colab-badge.svg\" alt=\"Open In Colab\"/></a>"
      ]
    },
    {
      "cell_type": "code",
      "metadata": {
        "id": "M1eIei2CLJEH",
        "colab_type": "code",
        "colab": {}
      },
      "source": [
        "'''#seed = 5\n",
        "m = 10**4\n",
        "a = 2\n",
        "n = 10**4'''\n",
        "def randomgenerater(x,m,a,n):\n",
        "  random_numbers = [x/m]\n",
        "  seed = x\n",
        "  for i in range(n-1):\n",
        "    y = ((seed*a)%m)\n",
        "    random_numbers.append(y/m)\n",
        "    #print(y)\n",
        "    seed = y\n",
        "  return random_numbers"
      ],
      "execution_count": 0,
      "outputs": []
    },
    {
      "cell_type": "code",
      "metadata": {
        "id": "nsg3MjnWMY2I",
        "colab_type": "code",
        "colab": {
          "base_uri": "https://localhost:8080/",
          "height": 71
        },
        "outputId": "e4b9ac4c-371f-4ef4-fb8a-faae79d40f15"
      },
      "source": [
        "x = randomgenerater(5,2**31-1,7**5,10**2)\n",
        "#print(x.index(0.008))\n",
        "from collections import Counter\n",
        "print(x)\n",
        "len(Counter(x).keys())"
      ],
      "execution_count": 90,
      "outputs": [
        {
          "output_type": "stream",
          "text": [
            "[2.3283064376228985e-09, 3.9131846297128054e-05, 0.6576889407158312, 0.7780266109751661, 0.29325065961724645, 0.6638361870608461, 0.09479593164045175, 0.23522308107243062, 0.39432358434159476, 0.39648202918306086, 0.6734644797041381, 0.9175103874492972, 0.5970818603397728, 0.15482673056182766, 0.17286055263730724, 0.267308175222626, 0.6485009666758128, 0.3557469203862114, 0.038490931055737164, 0.9170782537744745, 0.33421118759280594, 0.08742987228903448, 0.43386356180248015, 0.9448832142841458, 0.6521824736391113, 0.23083445254286492, 0.6346438879308495, 0.4598244537877964, 0.2695948114942735, 0.07999678425490707, 0.505952972223029, 0.5516041524482911, 0.810990198427341, 0.3122649683208507, 0.23732256853828326, 0.6804094229267954, 0.6411711306502909, 0.16319283943771984, 0.7820524297571054, 0.9551869276702343, 0.8266933536281312, 0.23519442800208668, 0.9127514310706181, 0.6133020038778437, 0.766779174919603, 0.2575928737677601, 0.3634294147432919, 0.1581735905065078, 0.42353564287700485, 0.36354983382092315, 0.18205702825545195, 0.8324738893809142, 0.3886588250234066, 0.18887216839421175, 0.3745342015170186, 0.7963248965313309, 0.8325360020774119, 0.4325869150611511, 0.4882814327665984, 0.5460405082190598, 0.30282163773794735, 0.5232654616810686, 0.5226144737203673, 0.5814598182129952, 0.5951647058106795, 0.933210560089541, 0.4698834249143877, 0.33072253611438096, 0.4536644744005354, 0.738821249799254, 0.3687453760619952, 0.5035354739537162, 0.920710740108374, 0.3854090014404659, 0.5690872099106606, 0.6487369684729432, 0.3222291247557053, 0.7048997691389638, 0.2504199185643438, 0.8075713109260292, 0.8510227337717184, 0.13908650127196986, 0.6268268779976418, 0.07933850636674954, 0.442276505959349, 0.3412356587784531, 0.14771708946103096, 0.6811225715471071, 0.6270599922291282, 0.9972893949585452, 0.4428610682687075, 0.1659743921672806, 0.5316091554852245, 0.7550762401684542, 0.5663685112103674, 0.9555679126435741, 0.22990780055052965, 0.06040385275166661, 0.20755319726073798, 0.3465863612231735]\n"
          ],
          "name": "stdout"
        },
        {
          "output_type": "execute_result",
          "data": {
            "text/plain": [
              "100"
            ]
          },
          "metadata": {
            "tags": []
          },
          "execution_count": 90
        }
      ]
    },
    {
      "cell_type": "code",
      "metadata": {
        "id": "mdyD6XjgMaS_",
        "colab_type": "code",
        "colab": {}
      },
      "source": [
        "import pandas as pd"
      ],
      "execution_count": 0,
      "outputs": []
    },
    {
      "cell_type": "code",
      "metadata": {
        "id": "dxyaXpY7RHdR",
        "colab_type": "code",
        "colab": {
          "base_uri": "https://localhost:8080/",
          "height": 383
        },
        "outputId": "6e5cc061-e4bd-4e91-95e4-f0fad36a01af"
      },
      "source": [
        "y =np.random.random(100)\n",
        "print(len(Counter(y).keys()))\n",
        "data = pd.DataFrame(list(zip(x,y,np.sin(x))))\n",
        "#data.summary()\n",
        "data.hist()"
      ],
      "execution_count": 95,
      "outputs": [
        {
          "output_type": "stream",
          "text": [
            "100\n"
          ],
          "name": "stdout"
        },
        {
          "output_type": "execute_result",
          "data": {
            "text/plain": [
              "array([[<matplotlib.axes._subplots.AxesSubplot object at 0x7f41f1d99f98>,\n",
              "        <matplotlib.axes._subplots.AxesSubplot object at 0x7f41f1d3fc18>],\n",
              "       [<matplotlib.axes._subplots.AxesSubplot object at 0x7f41f1cf01d0>,\n",
              "        <matplotlib.axes._subplots.AxesSubplot object at 0x7f41f1d17748>]],\n",
              "      dtype=object)"
            ]
          },
          "metadata": {
            "tags": []
          },
          "execution_count": 95
        },
        {
          "output_type": "display_data",
          "data": {
            "image/png": "[encoded data removed]",
            "text/plain": [
              "<Figure size 432x288 with 4 Axes>"
            ]
          },
          "metadata": {
            "tags": []
          }
        }
      ]
    },
    {
      "cell_type": "code",
      "metadata": {
        "id": "Ln7o2eFDRdSL",
        "colab_type": "code",
        "colab": {}
      },
      "source": [
        ""
      ],
      "execution_count": 0,
      "outputs": []
    }
  ]
}