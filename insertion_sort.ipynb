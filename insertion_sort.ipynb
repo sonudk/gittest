{
  "nbformat": 4,
  "nbformat_minor": 0,
  "metadata": {
    "colab": {
      "name": "insertion sort.ipynb",
      "version": "0.3.2",
      "provenance": [],
      "include_colab_link": true
    },
    "kernelspec": {
      "name": "python3",
      "display_name": "Python 3"
    }
  },
  "cells": [
    {
      "cell_type": "markdown",
      "metadata": {
        "id": "view-in-github",
        "colab_type": "text"
      },
      "source": [
        "<a href=\"https://colab.research.google.com/github/sonudk/gittest/blob/master/insertion_sort.ipynb\" target=\"_parent\"><img src=\"https://colab.research.google.com/assets/colab-badge.svg\" alt=\"Open In Colab\"/></a>"
      ]
    },
    {
      "cell_type": "markdown",
      "metadata": {
        "id": "kGHc0mnr1m8b",
        "colab_type": "text"
      },
      "source": [
        "Here A is an list in python"
      ]
    },
    {
      "cell_type": "code",
      "metadata": {
        "id": "AuJo86RIxeuY",
        "colab_type": "code",
        "colab": {}
      },
      "source": [
        "def insertion_sort(A):\n",
        "  n = len(A)\n",
        "  for i in range(1,n):\n",
        "    key = A[i]\n",
        "    hole = i\n",
        "    while hole>0 and A[hole-1]>key:\n",
        "      A[hole] = A[hole-1]\n",
        "      hole = hole - 1\n",
        "    A[hole] = key\n",
        "  return A"
      ],
      "execution_count": 0,
      "outputs": []
    },
    {
      "cell_type": "markdown",
      "metadata": {
        "id": "dIs4yGHezt9r",
        "colab_type": "text"
      },
      "source": [
        "**to  get time taken by program**\n",
        "\n",
        "import time\n",
        "\n",
        "start = time.time()\n",
        "\n",
        "\"the code you want to test stays here\"\n",
        "\n",
        "end = time.time()\n",
        "\n",
        "print(end - start)"
      ]
    }
  ]
}